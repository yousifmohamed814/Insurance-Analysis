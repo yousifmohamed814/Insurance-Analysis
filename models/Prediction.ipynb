{
 "cells": [
  {
   "cell_type": "code",
   "execution_count": 1,
   "id": "1b69e071",
   "metadata": {},
   "outputs": [],
   "source": [
    "import joblib"
   ]
  },
  {
   "cell_type": "code",
   "execution_count": 2,
   "id": "ea27f075",
   "metadata": {},
   "outputs": [
    {
     "data": {
      "text/plain": [
       "Index(['age', 'bmi', 'children', 'sex_male', 'smoker_yes', 'region_northwest',\n",
       "       'region_southeast', 'region_southwest'],\n",
       "      dtype='object')"
      ]
     },
     "execution_count": 2,
     "metadata": {},
     "output_type": "execute_result"
    }
   ],
   "source": [
    "joblib.load('features.h5')"
   ]
  },
  {
   "cell_type": "markdown",
   "id": "4c7c651f",
   "metadata": {},
   "source": [
    "## DT Predictive Model"
   ]
  },
  {
   "cell_type": "code",
   "execution_count": 3,
   "id": "9070ac92",
   "metadata": {},
   "outputs": [],
   "source": [
    "model2=joblib.load('model2.h5')\n",
    "scaler2=joblib.load('scaler2.h5')"
   ]
  },
  {
   "cell_type": "code",
   "execution_count": 4,
   "id": "5e84ac5b",
   "metadata": {},
   "outputs": [],
   "source": [
    "data=[18,19,4,1,1,0,1,0]"
   ]
  },
  {
   "cell_type": "code",
   "execution_count": 5,
   "id": "26414b42",
   "metadata": {},
   "outputs": [
    {
     "name": "stderr",
     "output_type": "stream",
     "text": [
      "C:\\Users\\mnso\\anaconda3\\Lib\\site-packages\\sklearn\\base.py:464: UserWarning: X does not have valid feature names, but StandardScaler was fitted with feature names\n",
      "  warnings.warn(\n"
     ]
    }
   ],
   "source": [
    "data_scaled=scaler2.transform([data])"
   ]
  },
  {
   "cell_type": "code",
   "execution_count": 6,
   "id": "aadd0d83",
   "metadata": {},
   "outputs": [
    {
     "data": {
      "text/plain": [
       "14394.987712499998"
      ]
     },
     "execution_count": 6,
     "metadata": {},
     "output_type": "execute_result"
    }
   ],
   "source": [
    "model2.predict(data_scaled)[0]"
   ]
  },
  {
   "cell_type": "markdown",
   "id": "a73cfb73",
   "metadata": {},
   "source": [
    "## Prediction With Polynomial Scaling"
   ]
  },
  {
   "cell_type": "code",
   "execution_count": 7,
   "id": "eced2609",
   "metadata": {},
   "outputs": [],
   "source": [
    "model3=joblib.load('model3.h5')\n",
    "poly3=joblib.load('poly3.h5')"
   ]
  },
  {
   "cell_type": "code",
   "execution_count": 8,
   "id": "103b344a",
   "metadata": {},
   "outputs": [],
   "source": [
    "data=[18,19,4,1,1,0,1,0]"
   ]
  },
  {
   "cell_type": "code",
   "execution_count": 9,
   "id": "75886c0c",
   "metadata": {},
   "outputs": [],
   "source": [
    "data_poly=poly3.transform([data])"
   ]
  },
  {
   "cell_type": "code",
   "execution_count": 10,
   "id": "ae44576f",
   "metadata": {},
   "outputs": [
    {
     "data": {
      "text/plain": [
       "2.9786111201848026e+17"
      ]
     },
     "execution_count": 10,
     "metadata": {},
     "output_type": "execute_result"
    }
   ],
   "source": [
    "model3.predict(data_poly)[0]"
   ]
  },
  {
   "cell_type": "code",
   "execution_count": null,
   "id": "e119821e",
   "metadata": {},
   "outputs": [],
   "source": []
  }
 ],
 "metadata": {
  "kernelspec": {
   "display_name": "Python 3 (ipykernel)",
   "language": "python",
   "name": "python3"
  },
  "language_info": {
   "codemirror_mode": {
    "name": "ipython",
    "version": 3
   },
   "file_extension": ".py",
   "mimetype": "text/x-python",
   "name": "python",
   "nbconvert_exporter": "python",
   "pygments_lexer": "ipython3",
   "version": "3.11.5"
  }
 },
 "nbformat": 4,
 "nbformat_minor": 5
}
